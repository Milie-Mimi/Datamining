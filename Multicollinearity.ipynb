{
 "cells": [
  {
   "cell_type": "markdown",
   "id": "8d9a6637-63f6-4b00-ab1d-dbf4fe5a7021",
   "metadata": {},
   "source": [
    "# Multicollinearity"
   ]
  },
  {
   "cell_type": "code",
   "execution_count": null,
   "id": "2bcaa144-b8f6-4cfa-86cd-55a1e90e9762",
   "metadata": {},
   "outputs": [],
   "source": [
    "# Fonction qui calcule la VIF des variables prédictrices:\n",
    "from sklearn.linear_model import LinearRegression\n",
    "\n",
    "def calculate_vif(df, features):    \n",
    "    vif, tolerance = {}, {}    # all the features that you want to examine\n",
    "    for feature in features:\n",
    "        # extract all the other features you will regress against\n",
    "        X = [f for f in features if f != feature]        \n",
    "        X, y = df[X], df[feature]        \n",
    "        # extract r-squared from the fit\n",
    "        r2 = LinearRegression().fit(X, y).score(X, y)                \n",
    "        \n",
    "        # calculate tolerance\n",
    "        tolerance[feature] = 1 - r2        \n",
    "        # calculate VIF\n",
    "        vif[feature] = 1/(tolerance[feature])    \n",
    "        # return VIF DataFrame\n",
    "    return pd.DataFrame({'VIF': vif, 'Tolerance': tolerance})"
   ]
  },
  {
   "cell_type": "code",
   "execution_count": null,
   "id": "f5a43b95-769c-4834-89ed-34c64b75e746",
   "metadata": {},
   "outputs": [],
   "source": [
    "calculate_vif(df = data_comb, \n",
    "              features = ['surface_log', \n",
    "                          'surface'])"
   ]
  }
 ],
 "metadata": {
  "kernelspec": {
   "display_name": "Python 3 (ipykernel)",
   "language": "python",
   "name": "python3"
  },
  "language_info": {
   "codemirror_mode": {
    "name": "ipython",
    "version": 3
   },
   "file_extension": ".py",
   "mimetype": "text/x-python",
   "name": "python",
   "nbconvert_exporter": "python",
   "pygments_lexer": "ipython3",
   "version": "3.8.11"
  }
 },
 "nbformat": 4,
 "nbformat_minor": 5
}
